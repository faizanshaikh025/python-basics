{
  "nbformat": 4,
  "nbformat_minor": 0,
  "metadata": {
    "colab": {
      "provenance": []
    },
    "kernelspec": {
      "name": "python3",
      "display_name": "Python 3"
    },
    "language_info": {
      "name": "python"
    }
  },
  "cells": [
    {
      "cell_type": "code",
      "execution_count": null,
      "metadata": {
        "id": "0DO_-U0THjUm"
      },
      "outputs": [],
      "source": []
    },
    {
      "cell_type": "markdown",
      "source": [
        "#Python Basics\n",
        "Q1.What is Python, and why is it popular?\n",
        "  - Python is a programming language that is easy to understand and write,an\n",
        "    open-source programming language that is free to use and distribute,\n",
        "  It is compatible with various programming paradigms, such as procedural,     object-oriented, and functional programming.\n",
        "  Python has a large and active community of developers, an extensive standard library, and third-party packages for various domains , making it a popular choice among developers and programmers.\n",
        "\n",
        "Q2.What is an interpreter in Python ?\n",
        "   - Python is a popular programming language used worldwide. To run a Python code, you need a Python interpreter. An interpreter is a program that reads & executes code line by line, allowing you to see the results immediately.\n",
        "\n",
        "Q3.What are pre-defined keywords in Python ?\n",
        "   - Keywords are reserved words in Python that have special meanings and cannot be used as identifiers (variable names, function names, etc.).\n",
        "   Examples of keywords include if, else, while, for, def, class, import, try, except, return, True, False, None, etc.\n",
        "   Keywords are case-sensitive and cannot be redefined or overridden within a Python program.\n",
        "\n",
        "Q4. Can keywords be used as variable names ?\n",
        "  - Keywords define the language's syntax rules and structure, and they  \n",
        "      cannot be used as variable names. Programmers generally choose names for their variables that are meaningful to the human readers of the program to remember what the variable is used for.\n",
        "\n",
        "Q5.What is mutability in Python ?\n",
        "  - Mutable is when something is changeable or has the ability to change. In Python, 'mutable' is the ability of objects to change their values. These are often the objects that store a collection of data.\n",
        "\n",
        "Q6.Why are lists mutable, but tuples are immutable ?\n",
        "   - The main difference between tuples and lists is that tuples are immutable, meaning their contents cannot be changed after creation, while lists are mutable and can be modified. Additionally, tuples are more memory-efficient compared to lists. Tuples can't be changed after they're created, but lists can be modified.\n",
        "\n",
        "Q7.What is the difference between “==” and “is” operators in Python ?\n",
        "   - The is operator is used to check if different variables are pointing to the same object in memory. The == operator is used in Python when the values of the operands are equal.\n",
        "\n",
        "Q8.What are logical operators in Python ?\n",
        "  - Python has three logical operators: and, or, and not. These operators, also known as Boolean operators, evaluate multiple conditions and determine an expression's overall truth value.\n",
        "\n",
        "Q9.What is type casting in Python ?\n",
        "   - Casting, also known as type conversion, is a process that converts a variable's data type into another data type. These conversions can be implicit  or explicit.\n",
        "\n",
        "Q10.What is the difference between implicit and explicit type casting ?\n",
        "  -  Implicit type casting happens automatically, while explicit type casting\n",
        "      requires manual intervention.\n",
        "\n",
        "Q11.What is the purpose of conditional statements in Python ?\n",
        "   - They allow you to make decisions based on the values of variables or the result of comparisons.\n",
        "\n",
        "Q12.How does the elif statement work ?\n",
        "  - It can be used in conditional statements to check for multiple conditions,if the first condition is false, it moves on to the next “elif” statement to check if that condition is true.\n",
        "\n",
        "Q13.What is the difference between for and while loops ?\n",
        "   - A for loop repeats commands a specific number of times and a while loop repeats until a condition becomes false.\n",
        "\n",
        "Q14.Describe a scenario where a while loop is more suitable than a for loop.\n",
        "   - In contrast to a 'for' loop, which is generally used when the number of iterations is known beforehand, a 'while' loop is ideal for situations where the number of iterations is not predetermined and depends on some dynamic condition.\n",
        "\n",
        "\n",
        "\n",
        "\n",
        "\n",
        "\n"
      ],
      "metadata": {
        "id": "QgI3VzTEHp_Z"
      }
    },
    {
      "cell_type": "code",
      "source": [
        "#Practical Question\n",
        "\n",
        "\n"
      ],
      "metadata": {
        "colab": {
          "base_uri": "https://localhost:8080/"
        },
        "id": "9_zVu47cdzVl",
        "outputId": "80648843-6b90-4577-fbe7-2129f6d8ccda"
      },
      "execution_count": null,
      "outputs": [
        {
          "output_type": "stream",
          "name": "stdout",
          "text": [
            "Hello , World!\n"
          ]
        }
      ]
    },
    {
      "cell_type": "code",
      "source": [
        " # 1.Write a Python program to print \"Hello, World!\"\n",
        "print(\"Hello , World!\")\n"
      ],
      "metadata": {
        "colab": {
          "base_uri": "https://localhost:8080/"
        },
        "id": "cyAbsU4CgTD2",
        "outputId": "c08fb0ff-c8ca-4d45-815e-4e80444f2223"
      },
      "execution_count": null,
      "outputs": [
        {
          "output_type": "stream",
          "name": "stdout",
          "text": [
            "Hello , World!\n"
          ]
        }
      ]
    },
    {
      "cell_type": "markdown",
      "source": [],
      "metadata": {
        "id": "1Ekl5dhwd7ni"
      }
    },
    {
      "cell_type": "code",
      "source": [
        "#2.Write a Python program that displays your name and age\n",
        "name=\"Mohammed_faizan\"\n",
        "age=23\n",
        "print(\"Hello, my name is\", name, \"and I am\", age, \"years old.\")"
      ],
      "metadata": {
        "colab": {
          "base_uri": "https://localhost:8080/"
        },
        "id": "CqOnDy1yiDBw",
        "outputId": "caf20ff3-7c3a-4831-9a20-5f81821f2dae"
      },
      "execution_count": null,
      "outputs": [
        {
          "output_type": "stream",
          "name": "stdout",
          "text": [
            "Hello, my name is Mohammed_faizan and I am 23 years old.\n"
          ]
        }
      ]
    },
    {
      "cell_type": "code",
      "source": [
        "#3.Write code to print all the pre-defined keywords in Python using the keyword library\n",
        "import keyword\n",
        "print(\"The list of keywords is : \")\n",
        "print(keyword.kwlist)"
      ],
      "metadata": {
        "colab": {
          "base_uri": "https://localhost:8080/"
        },
        "id": "j7RhM1TNjDri",
        "outputId": "96f74fa3-5663-490e-db5a-8db223974077"
      },
      "execution_count": null,
      "outputs": [
        {
          "output_type": "stream",
          "name": "stdout",
          "text": [
            "The list of keywords is : \n",
            "['False', 'None', 'True', 'and', 'as', 'assert', 'async', 'await', 'break', 'class', 'continue', 'def', 'del', 'elif', 'else', 'except', 'finally', 'for', 'from', 'global', 'if', 'import', 'in', 'is', 'lambda', 'nonlocal', 'not', 'or', 'pass', 'raise', 'return', 'try', 'while', 'with', 'yield']\n"
          ]
        }
      ]
    },
    {
      "cell_type": "code",
      "source": [
        "#4.Write a program that checks if a given word is a Python keyword.\n",
        "import keyword\n",
        "\n",
        "s = 'for'\n",
        "\n",
        "# Check if it's a Python keyword\n",
        "if keyword.iskeyword(s):\n",
        "    print(f\"'{s}' is a Python keyword.\")\n",
        "else:\n",
        "    print(f\"'{s}' is not a Python keyword.\")\n"
      ],
      "metadata": {
        "colab": {
          "base_uri": "https://localhost:8080/"
        },
        "id": "b3Z5m2PhjOLD",
        "outputId": "5832c331-8e12-4cc2-dc9a-ed842b169a58"
      },
      "execution_count": null,
      "outputs": [
        {
          "output_type": "stream",
          "name": "stdout",
          "text": [
            "'for' is a Python keyword.\n"
          ]
        }
      ]
    },
    {
      "cell_type": "code",
      "source": [
        "#5.Create a list and tuple in Python, and demonstrate how attempting to change an element works differently for each\n",
        "# Create a list\n",
        "my_list = [1, 2, 3, 4]\n",
        "\n",
        "# Create a tuple\n",
        "my_tuple = (1, 2, 3, 4)\n",
        "\n",
        "# Attempt to change an element in the list\n",
        "print(\"Original list:\", my_list)\n",
        "my_list[2] = 99  # Change the third element (index 2) to 99\n",
        "print(\"Modified list:\", my_list)\n",
        "\n",
        "# Attempt to change an element in the tuple\n",
        "print(\"\\nOriginal tuple:\", my_tuple)\n",
        "try:\n",
        "    my_tuple[2] = 99  # Try to change the third element (index 2) to 99\n",
        "except TypeError as e:\n",
        "    print(\"Error when trying to modify tuple:\", e)\n"
      ],
      "metadata": {
        "colab": {
          "base_uri": "https://localhost:8080/"
        },
        "id": "J8p1X_cljiiO",
        "outputId": "12705bfd-2b74-446a-8038-313863e6e6c7"
      },
      "execution_count": null,
      "outputs": [
        {
          "output_type": "stream",
          "name": "stdout",
          "text": [
            "Original list: [1, 2, 3, 4]\n",
            "Modified list: [1, 2, 99, 4]\n",
            "\n",
            "Original tuple: (1, 2, 3, 4)\n",
            "Error when trying to modify tuple: 'tuple' object does not support item assignment\n"
          ]
        }
      ]
    },
    {
      "cell_type": "code",
      "source": [
        "#6.Write a function to demonstrate the behavior of mutable and immutable arguments.\n",
        "def modify_values(mutable_arg, immutable_arg):\n",
        "    print(\"\\nInside the function:\")\n",
        "    print(\"Before modification:\")\n",
        "    print(\"Mutable argument (list):\", mutable_arg)\n",
        "    print(\"Immutable argument (string):\", immutable_arg)\n",
        "\n",
        "    # Try to modify the mutable argument (list)\n",
        "    mutable_arg.append(4)  # Add a new element to the list\n",
        "    # Try to modify the immutable argument (string)\n",
        "    immutable_arg += \" World\"  # This creates a new string object\n",
        "\n",
        "    print(\"\\nAfter modification:\")\n",
        "    print(\"Mutable argument (list):\", mutable_arg)\n",
        "    print(\"Immutable argument (string):\", immutable_arg)\n",
        "\n",
        "# Define a list (mutable) and a string (immutable)\n",
        "my_list = [1, 2, 3]\n",
        "my_string = \"Hello\"\n",
        "\n",
        "print(\"Before calling the function:\")\n",
        "print(\"Original list:\", my_list)\n",
        "print(\"Original string:\", my_string)\n",
        "\n",
        "# Call the function\n",
        "modify_values(my_list, my_string)\n",
        "\n",
        "print(\"\\nAfter calling the function:\")\n",
        "print(\"Original list:\", my_list)\n",
        "print(\"Original string:\", my_string)"
      ],
      "metadata": {
        "colab": {
          "base_uri": "https://localhost:8080/"
        },
        "id": "--MZkgrNjvJx",
        "outputId": "1cd2327f-1397-4ac6-823d-eb0f369a4156"
      },
      "execution_count": null,
      "outputs": [
        {
          "output_type": "stream",
          "name": "stdout",
          "text": [
            "Before calling the function:\n",
            "Original list: [1, 2, 3]\n",
            "Original string: Hello\n",
            "\n",
            "Inside the function:\n",
            "Before modification:\n",
            "Mutable argument (list): [1, 2, 3]\n",
            "Immutable argument (string): Hello\n",
            "\n",
            "After modification:\n",
            "Mutable argument (list): [1, 2, 3, 4]\n",
            "Immutable argument (string): Hello World\n",
            "\n",
            "After calling the function:\n",
            "Original list: [1, 2, 3, 4]\n",
            "Original string: Hello\n"
          ]
        }
      ]
    },
    {
      "cell_type": "code",
      "source": [
        "#7.Write a program that performs basic arithmetic operations on two user-input numbers.\n",
        "# Get two numbers from the user\n",
        "num1 = 10\n",
        "num2 = 5\n",
        "\n",
        "# Perform arithmetic operations\n",
        "addition = num1 + num2\n",
        "subtraction = num1 - num2\n",
        "multiplication = num1 * num2\n",
        "\n",
        "# Check if the num2 is not zero to avoid division by zero error\n",
        "if num2 != 0:\n",
        "    division = num1 / num2\n",
        "else:\n",
        "    division = \"Undefined (division by zero)\"\n",
        "\n",
        "# Display the results\n",
        "print(\"\\nResults:\")\n",
        "print(f\"{num1} + {num2} = {addition}\")\n",
        "print(f\"{num1} - {num2} = {subtraction}\")\n",
        "print(f\"{num1} * {num2} = {multiplication}\")\n",
        "print(f\"{num1} / {num2} = {division}\")"
      ],
      "metadata": {
        "colab": {
          "base_uri": "https://localhost:8080/"
        },
        "id": "vUGoiRUmkGQD",
        "outputId": "f6842bf5-f411-4040-e3c2-f52bb69cad41"
      },
      "execution_count": null,
      "outputs": [
        {
          "output_type": "stream",
          "name": "stdout",
          "text": [
            "\n",
            "Results:\n",
            "10 + 5 = 15\n",
            "10 - 5 = 5\n",
            "10 * 5 = 50\n",
            "10 / 5 = 2.0\n"
          ]
        }
      ]
    },
    {
      "source": [
        "#8.Write a program to demonstrate the use of logical operators.\n",
        "#  two boolean values from the user\n",
        "print(\"Enter two boolean values (True or False):\")\n",
        "# Use 'True' instead of 'true'\n",
        "bool1 = True # Change 'true' to 'True'\n",
        "# Use 'False' instead of 'false'\n",
        "bool2 = False # Change 'false' to 'False'\n",
        "\n",
        "# Demonstrate logical operators\n",
        "and_result = bool1 and bool2\n",
        "or_result = bool1 or bool2\n",
        "not_result1 = not bool1\n",
        "not_result2 = not bool2\n",
        "\n",
        "# Display the results\n",
        "print(\"\\nResults:\")\n",
        "print(f\"{bool1} AND {bool2} = {and_result}\")\n",
        "print(f\"{bool1} OR {bool2} = {or_result}\")\n",
        "print(f\"NOT {bool1} = {not_result1}\")\n",
        "print(f\"NOT {bool2} = {not_result2}\")"
      ],
      "cell_type": "code",
      "metadata": {
        "colab": {
          "base_uri": "https://localhost:8080/"
        },
        "id": "XSFN6iGZtPrJ",
        "outputId": "81fff890-d55e-4ed8-ecf2-53dde50bcef1"
      },
      "execution_count": null,
      "outputs": [
        {
          "output_type": "stream",
          "name": "stdout",
          "text": [
            "Enter two boolean values (True or False):\n",
            "\n",
            "Results:\n",
            "True AND False = False\n",
            "True OR False = True\n",
            "NOT True = False\n",
            "NOT False = True\n"
          ]
        }
      ]
    },
    {
      "cell_type": "code",
      "source": [
        "#9. Write a Python program to convert user input from string to integer, float, and boolean types.\n",
        "# Get user input as a string\n",
        "user_input = input(\"Enter a value : \")\n",
        "\n",
        "# Convert to integer\n",
        "try:\n",
        "    int_value = int(user_input)\n",
        "    print(f\"As integer: {int_value}\")\n",
        "except ValueError:\n",
        "    print(f\"Cannot convert '{user_input}' to integer.\")\n",
        "\n",
        "# Convert to float\n",
        "try:\n",
        "    float_value = float(user_input)\n",
        "    print(f\"As float: {float_value}\")\n",
        "except ValueError:\n",
        "    print(f\"Cannot convert '{user_input}' to float.\")\n",
        "\n",
        "# Convert to boolean\n",
        "# For boolean, we consider \"True\" or \"False\" as valid inputs (case-insensitive)\n",
        "if user_input.strip().lower() in (\"true\", \"false\"):\n",
        "    bool_value = user_input.strip().lower() == \"true\"\n",
        "    print(f\"As boolean: {bool_value}\")\n",
        "else:\n",
        "    print(f\"Cannot convert '{user_input}' to boolean (must be 'True' or 'False').\")\n"
      ],
      "metadata": {
        "colab": {
          "base_uri": "https://localhost:8080/"
        },
        "id": "oGAcS6QxkLp3",
        "outputId": "b87b1ec9-61a6-4c3b-b441-36c7f60fc4af"
      },
      "execution_count": null,
      "outputs": [
        {
          "output_type": "stream",
          "name": "stdout",
          "text": [
            "Enter a value : hello\n",
            "Cannot convert 'hello' to integer.\n",
            "Cannot convert 'hello' to float.\n",
            "Cannot convert 'hello' to boolean (must be 'True' or 'False').\n"
          ]
        }
      ]
    },
    {
      "cell_type": "code",
      "source": [
        "#10.Write code to demonstrate type casting with list elements.\n",
        "# Example list with string elements\n",
        "string_list = [\"10\", \"20\", \"30\", \"40\", \"50\"]\n",
        "\n",
        "# Convert list elements from strings to integers\n",
        "int_list = [int(x) for x in string_list]\n",
        "\n",
        "# Convert list elements from strings to floats\n",
        "float_list = [float(x) for x in string_list]\n",
        "\n",
        "# Convert list elements from integers to strings\n",
        "back_to_string_list = [str(x) for x in int_list]\n",
        "\n",
        "# Display the results\n",
        "print(\"Original list (strings):\", string_list)\n",
        "print(\"List after converting to integers:\", int_list)\n",
        "print(\"List after converting to floats:\", float_list)\n",
        "print(\"List after converting back to strings:\", back_to_string_list)"
      ],
      "metadata": {
        "colab": {
          "base_uri": "https://localhost:8080/"
        },
        "id": "6VBcIrKtkTcq",
        "outputId": "e6c9edd4-efd8-44dc-f76a-3c1a58071525"
      },
      "execution_count": null,
      "outputs": [
        {
          "output_type": "stream",
          "name": "stdout",
          "text": [
            "Original list (strings): ['10', '20', '30', '40', '50']\n",
            "List after converting to integers: [10, 20, 30, 40, 50]\n",
            "List after converting to floats: [10.0, 20.0, 30.0, 40.0, 50.0]\n",
            "List after converting back to strings: ['10', '20', '30', '40', '50']\n"
          ]
        }
      ]
    },
    {
      "cell_type": "code",
      "source": [
        "#11.Write a program that checks if a number is positive, negative, or zero\n",
        "num = float(input(\"Enter a number: \"))\n",
        "if num > 0:\n",
        "   print(\"Positive number\")\n",
        "elif num == 0:\n",
        "   print(\"Zero\")\n",
        "else:\n",
        "   print(\"Negative number\")\n"
      ],
      "metadata": {
        "colab": {
          "base_uri": "https://localhost:8080/"
        },
        "id": "H0fvvhhkkxvd",
        "outputId": "61a125de-7134-4ad5-cd86-1b37ee23a668"
      },
      "execution_count": null,
      "outputs": [
        {
          "output_type": "stream",
          "name": "stdout",
          "text": [
            "Enter a number: 1\n",
            "Positive number\n"
          ]
        }
      ]
    },
    {
      "cell_type": "code",
      "source": [
        "#12.Write a for loop to print numbers from 1 to 10\n",
        "for i in range(1, 11):\n",
        "    print(i)\n",
        "\n"
      ],
      "metadata": {
        "colab": {
          "base_uri": "https://localhost:8080/"
        },
        "id": "Gra8yyGLla-I",
        "outputId": "bba3af43-fe5e-4e9a-d0ad-ae901e90e4d2"
      },
      "execution_count": null,
      "outputs": [
        {
          "output_type": "stream",
          "name": "stdout",
          "text": [
            "1\n",
            "2\n",
            "3\n",
            "4\n",
            "5\n",
            "6\n",
            "7\n",
            "8\n",
            "9\n",
            "10\n"
          ]
        }
      ]
    },
    {
      "cell_type": "code",
      "source": [
        "#13. Write a Python program to find the sum of all even numbers between 1 and 50.\n",
        "\n",
        "sum_of_evens = sum(number for number in range(1, 51) if number % 2 == 0)\n",
        "print(f\"The sum of all even numbers between 1 and 50 is: {sum_of_evens}\")"
      ],
      "metadata": {
        "id": "PRpHGu8uyPpt",
        "colab": {
          "base_uri": "https://localhost:8080/"
        },
        "outputId": "31daf318-027f-4657-f5f0-0cafa666b6d2"
      },
      "execution_count": 37,
      "outputs": [
        {
          "output_type": "stream",
          "name": "stdout",
          "text": [
            "The sum of all even numbers between 1 and 50 is: 650\n"
          ]
        }
      ]
    },
    {
      "cell_type": "code",
      "source": [
        "#14.Write a program to reverse a string using a while loop.\n",
        "input_string = input(\"Enter a string: \")\n",
        "reversed_string = \"\"\n",
        "index = len(input_string) - 1\n",
        "\n",
        "while index >= 0:\n",
        "    reversed_string += input_string[index]\n",
        "    index -= 1\n",
        "\n",
        "print(\"Reversed string:\", reversed_string)\n"
      ],
      "metadata": {
        "colab": {
          "base_uri": "https://localhost:8080/"
        },
        "id": "Az47YS1Y0Bj6",
        "outputId": "993a6867-5032-4f26-cbf1-522d3667c4d4"
      },
      "execution_count": 38,
      "outputs": [
        {
          "output_type": "stream",
          "name": "stdout",
          "text": [
            "Enter a string: hello\n",
            "Reversed string: olleh\n"
          ]
        }
      ]
    },
    {
      "cell_type": "code",
      "source": [
        "#15. Write a Python program to calculate the factorial of a number provided by the user using a while loop.\n",
        "num = int(input(\"Enter a number: \"))\n",
        "factorial = 1\n",
        "current = 1\n",
        "\n",
        "while current <= num:\n",
        "    factorial *= current\n",
        "    current += 1\n",
        "\n",
        "print(f\"The factorial of {num} is: {factorial}\")"
      ],
      "metadata": {
        "colab": {
          "base_uri": "https://localhost:8080/"
        },
        "id": "JPtlbdKp0mch",
        "outputId": "c9f255d5-e269-4cbe-99bf-73aad7f220b9"
      },
      "execution_count": 39,
      "outputs": [
        {
          "output_type": "stream",
          "name": "stdout",
          "text": [
            "Enter a number: 5\n",
            "The factorial of 5 is: 120\n"
          ]
        }
      ]
    },
    {
      "cell_type": "markdown",
      "source": [],
      "metadata": {
        "id": "2xsDSb4bHndv"
      }
    }
  ]
}